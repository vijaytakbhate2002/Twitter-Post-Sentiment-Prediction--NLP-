{
 "cells": [
  {
   "cell_type": "code",
   "execution_count": null,
   "id": "56a38792-60d6-4c49-8c15-90e49dc8cff3",
   "metadata": {},
   "outputs": [],
   "source": [
    "data = {\"names:\"['vijay','prakash'],\n",
    "        \"roll_no\": [1,2]}"
   ]
  }
 ],
 "metadata": {
  "kernelspec": {
   "display_name": "Python 3 (ipykernel)",
   "language": "python",
   "name": "python3"
  },
  "language_info": {
   "codemirror_mode": {
    "name": "ipython",
    "version": 3
   },
   "file_extension": ".py",
   "mimetype": "text/x-python",
   "name": "python",
   "nbconvert_exporter": "python",
   "pygments_lexer": "ipython3",
   "version": "3.12.6"
  }
 },
 "nbformat": 4,
 "nbformat_minor": 5
}
